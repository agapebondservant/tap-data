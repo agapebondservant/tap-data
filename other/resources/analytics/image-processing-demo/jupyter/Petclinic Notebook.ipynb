{
 "cells": [
  {
   "cell_type": "code",
   "execution_count": 1,
   "metadata": {},
   "outputs": [],
   "source": [
    "import pandas as pd, sys, json, requests, os"
   ]
  },
  {
   "cell_type": "code",
   "execution_count": 2,
   "metadata": {},
   "outputs": [],
   "source": [
    "%load_ext dotenv"
   ]
  },
  {
   "cell_type": "markdown",
   "metadata": {},
   "source": [
    "# Connect to Greenplum and view clinical recommendation data"
   ]
  },
  {
   "cell_type": "raw",
   "metadata": {},
   "source": [
    "from sqlalchemy import create_engine\n",
    "postgres_str = ('postgresql://{username}:{password}@{ipaddress}:{port}/{dbname}'.format(\n",
    "    username='gpadmin',password='gpadmin', \n",
    "    ipaddress='greenplum.greenplum-system.svc.cluster.local', port=5432, dbname='gpadmin'))\n",
    "cnx = create_engine(postgres_str)\n",
    "pd.read_sql_query('''SELECT * FROM madlib.pxf_clinical_data_000;''', cnx)"
   ]
  },
  {
   "cell_type": "markdown",
   "metadata": {},
   "source": [
    "# Training: Run logistic regression training results from Greenplum"
   ]
  },
  {
   "cell_type": "raw",
   "metadata": {},
   "source": [
    "\n",
    "pd.read_sql_query('''SELECT unnest(array['intercept', 'treatment_cost', 'wait_time']) as attribute,\n",
    "       unnest(coef) as coefficient,\n",
    "       unnest(std_err) as standard_error,\n",
    "       unnest(z_stats) as z_stat,\n",
    "       unnest(p_values) as pvalue,\n",
    "       unnest(odds_ratios) as odds_ratio\n",
    "    FROM madlib.clinical_data_logreg;''', cnx)"
   ]
  },
  {
   "cell_type": "markdown",
   "metadata": {},
   "source": [
    "# Model Selection: View model metrics "
   ]
  },
  {
   "cell_type": "raw",
   "metadata": {},
   "source": [
    "metrics=pd.read_sql_query('''SELECT threshold, \n",
    "tpr, fpr FROM madlib.clinical_data_test_result_metrics \n",
    "ORDER BY threshold;''', cnx)\n",
    "\n",
    "roc=pd.read_sql_query('''SELECT area_under_roc \n",
    "FROM madlib.clinical_data_test_result_roc;''', cnx)\n",
    "\n",
    "\n",
    "import matplotlib.pyplot as plt\n",
    "plt.title('Receiver Operating Characteristic')\n",
    "plt.plot(metrics.fpr, metrics.tpr, 'b', label = 'AUC = %0.2f' % roc.area_under_roc)\n",
    "plt.legend(loc = 'lower right')\n",
    "plt.plot([0, 1], [0, 1],'r--')\n",
    "plt.xlim([0, 1])\n",
    "plt.ylim([0, 1])\n",
    "plt.ylabel('True Positive Rate')\n",
    "plt.xlabel('False Positive Rate')"
   ]
  },
  {
   "cell_type": "markdown",
   "metadata": {},
   "source": [
    "# Get latest model"
   ]
  },
  {
   "cell_type": "raw",
   "metadata": {},
   "source": [
    "#hostname=\"http://\" + os.environ['SESSION_NAMESPACE'] + \"-gemfire1-dev-api.tanzudatatap.ml\" \n",
    "hostname=\"\"\n",
    "\n",
    "def get_model():\n",
    "    url=hostname + \":7070/geode/v1/clinicalDataModel\"\n",
    "    response = requests.request(\"GET\",url)\n",
    "    model=json.loads(response.json()['clinicalDataModel'][0]['row_to_json']['value'])\n",
    "    return model\n",
    "\n",
    "print(json.dumps(get_model(),indent=4))"
   ]
  }
 ],
 "metadata": {
  "kernelspec": {
   "display_name": "Python 3 (ipykernel)",
   "language": "python",
   "name": "python3"
  },
  "language_info": {
   "codemirror_mode": {
    "name": "ipython",
    "version": 3
   },
   "file_extension": ".py",
   "mimetype": "text/x-python",
   "name": "python",
   "nbconvert_exporter": "python",
   "pygments_lexer": "ipython3",
   "version": "3.10.3"
  }
 },
 "nbformat": 4,
 "nbformat_minor": 4
}
