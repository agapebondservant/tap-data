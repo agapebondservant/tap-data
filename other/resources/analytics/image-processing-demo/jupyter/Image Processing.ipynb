{
 "cells": [
  {
   "cell_type": "markdown",
   "id": "8778cc0c",
   "metadata": {},
   "source": [
    "<div class=\"alert alert-box alert-info\">\n",
    "    <h3>Image Processing via Convolutional Neural Networks</h3>\n",
    "    <a href=\"http://yann.lecun.com/exdb/publis/pdf/lecun-99.pdf\" target=\"_blank\">Original Paper by <b>Yann Lecun</b></a>\n",
    " </div>"
   ]
  },
  {
   "cell_type": "code",
   "execution_count": 1,
   "id": "6f5fe614",
   "metadata": {},
   "outputs": [
    {
     "name": "stderr",
     "output_type": "stream",
     "text": [
      "2023-01-20 05:27:59.977321: I tensorflow/core/platform/cpu_feature_guard.cc:193] This TensorFlow binary is optimized with oneAPI Deep Neural Network Library (oneDNN) to use the following CPU instructions in performance-critical operations:  AVX2 FMA\n",
      "To enable them in other operations, rebuild TensorFlow with the appropriate compiler flags.\n"
     ]
    },
    {
     "name": "stdout",
     "output_type": "stream",
     "text": [
      "Requirement already satisfied: hickle in /Users/oawofolu/.pyenv/versions/3.10.3/lib/python3.10/site-packages (5.0.2)\n",
      "Requirement already satisfied: numpy!=1.20,>=1.8 in /Users/oawofolu/.pyenv/versions/3.10.3/lib/python3.10/site-packages (from hickle) (1.23.1)\n",
      "Requirement already satisfied: h5py>=2.10.0 in /Users/oawofolu/.pyenv/versions/3.10.3/lib/python3.10/site-packages (from hickle) (3.7.0)\n",
      "\n",
      "\u001b[1m[\u001b[0m\u001b[34;49mnotice\u001b[0m\u001b[1;39;49m]\u001b[0m\u001b[39;49m A new release of pip available: \u001b[0m\u001b[31;49m22.2.1\u001b[0m\u001b[39;49m -> \u001b[0m\u001b[32;49m22.3.1\u001b[0m\n",
      "\u001b[1m[\u001b[0m\u001b[34;49mnotice\u001b[0m\u001b[1;39;49m]\u001b[0m\u001b[39;49m To update, run: \u001b[0m\u001b[32;49mpip install --upgrade pip\u001b[0m\n",
      "Note: you may need to restart the kernel to use updated packages.\n"
     ]
    }
   ],
   "source": [
    "import pandas as pd\n",
    "import numpy as np\n",
    "import matplotlib.pyplot as plt\n",
    "from pylab import rcParams\n",
    "import warnings\n",
    "import seaborn as sns\n",
    "import tensorflow\n",
    "from tensorflow.keras import datasets, layers, models\n",
    "from tensorflow.keras.preprocessing.image import load_img\n",
    "from tensorflow.keras.preprocessing.image import img_to_array\n",
    "import logging\n",
    "import pathlib\n",
    "import mlflow\n",
    "from mlflow import MlflowClient\n",
    "mlflow.set_tracking_uri('http://mlflow.tanzudatatap.ml')\n",
    "import warnings\n",
    "import tarfile\n",
    "import sys\n",
    "import importlib\n",
    "%pip install hickle\n",
    "import hickle as hkl\n",
    "import os\n",
    "import time\n",
    "import logging\n",
    "import traceback\n",
    "from io import StringIO\n",
    "import http\n",
    "import requests\n",
    "from PIL import Image\n",
    "logging.basicConfig()\n",
    "logging.getLogger().setLevel(logging.INFO)\n",
    "warnings.filterwarnings('ignore')\n",
    "\n",
    "%matplotlib inline"
   ]
  },
  {
   "cell_type": "markdown",
   "id": "143bdfee",
   "metadata": {},
   "source": [
    "## Utilities"
   ]
  },
  {
   "cell_type": "code",
   "execution_count": 2,
   "id": "cfdc2dfe",
   "metadata": {},
   "outputs": [],
   "source": [
    "def get_run_for_artifacts(active_run_id):\n",
    "    experiment_name = os.environ.get('MLFLOW_EXPERIMENT_NAME') or 'Default'\n",
    "    runs = mlflow.search_runs(experiment_names=[experiment_name], filter_string=\"tags.mainartifacts='y'\", max_results=1,\n",
    "                              output_format='list')\n",
    "    if len(runs):\n",
    "        return runs[0].info.run_id \n",
    "    else:\n",
    "        mlflow.set_tags({'mainartifacts':'y'})\n",
    "        return active_run_id\n",
    "\n",
    "def get_root_run(active_run_id):\n",
    "    experiment_name = os.environ.get('MLFLOW_EXPERIMENT_NAME') or 'Default'\n",
    "    runs = mlflow.search_runs(experiment_names=[experiment_name], filter_string=\"tags.runlevel='root'\", max_results=1,\n",
    "                              output_format='list')\n",
    "    if len(runs):\n",
    "        parent_run_id = runs[0].info.run_id \n",
    "        mlflow.set_tags({'mlflow.parentRunId': parent_run_id})\n",
    "        return parent_run_id\n",
    "    else:\n",
    "        mlflow.set_tags({'runlevel':'root'})\n",
    "        return active_run_id\n",
    "    \n",
    "\n",
    "def get_current_run():\n",
    "    last_active_run = mlflow.last_active_run()\n",
    "    return last_active_run.info.run_id if last_active_run else None"
   ]
  },
  {
   "cell_type": "markdown",
   "id": "fbc8df02",
   "metadata": {},
   "source": [
    "## Upload dataset"
   ]
  },
  {
   "cell_type": "code",
   "execution_count": 3,
   "id": "770da91e",
   "metadata": {},
   "outputs": [
    {
     "name": "stderr",
     "output_type": "stream",
     "text": [
      "INFO:root:Artifact run id is c1626fe40f5f45d4b544bfb78b0226c7\n",
      "INFO:root:File uploaded - run id c1626fe40f5f45d4b544bfb78b0226c7\n"
     ]
    }
   ],
   "source": [
    "# Upload dataset to S3 via MlFlow\n",
    "def upload_dataset(dataset, dataset_url=None):\n",
    "    experiment_id=mlflow.get_experiment_by_name(os.environ.get('MLFLOW_EXPERIMENT_NAME') or 'Default')\n",
    "    with mlflow.start_run(run_name='upload_dataset', nested=True) as active_run:\n",
    "        artifact_run_id = get_run_for_artifacts(active_run.info.run_id)\n",
    "        \n",
    "        mlflow.environment_variables.MLFLOW_HTTP_REQUEST_TIMEOUT = '3600'\n",
    "        os.environ['MLFLOW_HTTP_REQUEST_TIMEOUT'] = '3600'\n",
    "        \n",
    "        logging.info(f'Artifact run id is {artifact_run_id}')\n",
    "        \n",
    "        client = MlflowClient()\n",
    "        \n",
    "        \"\"\"download_path = tensorflow.keras.utils.get_file(\n",
    "            None,\n",
    "            dataset_url,\n",
    "            extract=True)\n",
    "        \n",
    "        download_dir = f\"{pathlib.Path(download_path).parent.absolute()}\"\"\"\n",
    "        \n",
    "        mod = importlib.import_module(f'tensorflow.keras.datasets.{dataset}')\n",
    "        (training_data, training_labels), (test_data, test_labels) = mod.load_data()\n",
    "        training_data, test_data = training_data / 255.0, test_data / 255.0\n",
    "        \n",
    "        hkl.dump({'training_data': training_data,\n",
    "                  'test_data': test_data,\n",
    "                  'training_labels': training_labels,\n",
    "                  'test_labels': test_labels},\n",
    "                 dataset, \n",
    "                 compression='gzip',\n",
    "                 mode='w')\n",
    "\n",
    "        try:\n",
    "            client.log_artifact(artifact_run_id, dataset)\n",
    "            logging.info(f'File uploaded - run id {artifact_run_id}')\n",
    "        except Exception as e:\n",
    "            logging.error(f'Could not complete upload for run id {artifact_run_id} - error occurred: ', exc_info=True)\n",
    "            traceback.print_exc()\n",
    "            \n",
    "\n",
    "mlflow.end_run()\n",
    "os.environ['MLFLOW_EXPERIMENT_NAME']='test1'\n",
    "upload_dataset(\"cifar10\", dataset_url=\"https://www.cs.toronto.edu/~kriz/cifar-10-python.tar.gz\")"
   ]
  },
  {
   "cell_type": "markdown",
   "id": "f8c13c8c",
   "metadata": {},
   "source": [
    "## Download DataSet"
   ]
  },
  {
   "cell_type": "code",
   "execution_count": 4,
   "id": "7733ef6a",
   "metadata": {},
   "outputs": [],
   "source": [
    "def download_dataset(artifact):\n",
    "    try:\n",
    "        with mlflow.start_run(run_name='download_dataset', nested=True) as active_run:\n",
    "            artifact_run_id = get_run_for_artifacts(active_run.info.run_id)\n",
    "            with mlflow.start_run(run_id=artifact_run_id, nested='True'):\n",
    "                uri = mlflow.get_artifact_uri(artifact_path=artifact)\n",
    "                uri = uri.replace('mlflow-artifacts:','http://minio-ml.tanzudatatap.ml/mlflow/artifacts')\n",
    "                #uri = uri.replace('mlflow-artifacts:','http://mlflow.tanzudatatap.ml/api/2.0/mlflow-artifacts/artifacts')\n",
    "                logging.info(f'Download uri: {uri}')\n",
    "                req = requests.get(uri)\n",
    "                with open(f'downloads/{artifact}', 'wb') as f:\n",
    "                    f.write(req.content)\n",
    "                    logging.info(f'{artifact} download complete.')\n",
    "                return f'downloads/{artifact}'\n",
    "    except http.client.IncompleteRead as icread:\n",
    "        logging.info(f'Incomplete read...{icread}')\n",
    "    except Exception as e:\n",
    "        logging.error(f'Could not complete upload for run id - error occurred: ', exc_info=True)\n",
    "        traceback.print_exc()\n",
    "                \n",
    "def download_model(model_name, model_flavor, best_run_id, retries=2):\n",
    "    experiment_name=os.environ.get('MLFLOW_EXPERIMENT_NAME') or 'Default'\n",
    "    experiment_id=mlflow.get_experiment_by_name(experiment_name)\n",
    "    \n",
    "    with mlflow.start_run(run_name='download_model', nested=True) as active_run:\n",
    "        try:\n",
    "            client = MlflowClient()\n",
    "            versions = client.search_model_versions(f\"name='{model_name}' and run_id='{best_run_id}'\")\n",
    "            logging.info(f\"In download model...search model results = {versions}\")\n",
    "            if len(versions) and versions[0].current_stage.lower() != 'production':\n",
    "                version = versions[0].version\n",
    "                model = getattr(mlflow, model_flavor).load_model(f'models:/{model_name}/{version}')\n",
    "                return (model, version)\n",
    "            else:\n",
    "                logging.info(f\"No suitable candidate model found for {model_name}...\")\n",
    "                return None\n",
    "        except Exception as e:\n",
    "            if retries > 0:\n",
    "                logging.error(f\"Could not download {model_name} - retrying...\")\n",
    "                time.sleep(1)\n",
    "                download_model(model_name, model_flavor, best_run_id, retries=retries-1)\n",
    "            else:\n",
    "                logging.error(f'Could not complete download for model {model_name} - error occurred: ', exc_info=True)\n",
    "                traceback.print_exc()"
   ]
  },
  {
   "cell_type": "markdown",
   "id": "a64beabb",
   "metadata": {},
   "source": [
    "## Train Model"
   ]
  },
  {
   "cell_type": "code",
   "execution_count": 10,
   "id": "b7101952",
   "metadata": {},
   "outputs": [
    {
     "name": "stderr",
     "output_type": "stream",
     "text": [
      "INFO:root:Download uri: http://minio-ml.tanzudatatap.ml/mlflow/artifacts/4/c1626fe40f5f45d4b544bfb78b0226c7/artifacts/cifar10\n",
      "INFO:root:cifar10 download complete.\n"
     ]
    },
    {
     "name": "stdout",
     "output_type": "stream",
     "text": [
      "downloads/cifar10\n",
      "Model: \"sequential_1\"\n",
      "_________________________________________________________________\n",
      " Layer (type)                Output Shape              Param #   \n",
      "=================================================================\n",
      " conv2d_3 (Conv2D)           (None, 30, 30, 32)        896       \n",
      "                                                                 \n",
      " max_pooling2d_2 (MaxPooling  (None, 15, 15, 32)       0         \n",
      " 2D)                                                             \n",
      "                                                                 \n",
      " conv2d_4 (Conv2D)           (None, 13, 13, 64)        18496     \n",
      "                                                                 \n",
      " max_pooling2d_3 (MaxPooling  (None, 6, 6, 64)         0         \n",
      " 2D)                                                             \n",
      "                                                                 \n",
      " conv2d_5 (Conv2D)           (None, 4, 4, 64)          36928     \n",
      "                                                                 \n",
      " flatten_1 (Flatten)         (None, 1024)              0         \n",
      "                                                                 \n",
      " dense_2 (Dense)             (None, 64)                65600     \n",
      "                                                                 \n",
      " dense_3 (Dense)             (None, 10)                650       \n",
      "                                                                 \n",
      "=================================================================\n",
      "Total params: 122,570\n",
      "Trainable params: 122,570\n",
      "Non-trainable params: 0\n",
      "_________________________________________________________________\n",
      "Epoch 1/10\n",
      "   6/1563 [..............................] - ETA: 18s - loss: 2.3138 - accuracy: 0.0833  WARNING:tensorflow:Callback method `on_train_batch_end` is slow compared to the batch time (batch time: 0.0115s vs `on_train_batch_end` time: 0.0296s). Check your callbacks.\n"
     ]
    },
    {
     "name": "stderr",
     "output_type": "stream",
     "text": [
      "WARNING:tensorflow:Callback method `on_train_batch_end` is slow compared to the batch time (batch time: 0.0115s vs `on_train_batch_end` time: 0.0296s). Check your callbacks.\n"
     ]
    },
    {
     "name": "stdout",
     "output_type": "stream",
     "text": [
      "1563/1563 [==============================] - 25s 16ms/step - loss: 1.4948 - accuracy: 0.4548 - val_loss: 1.2408 - val_accuracy: 0.5499\n",
      "Epoch 2/10\n",
      "1563/1563 [==============================] - 24s 15ms/step - loss: 1.1154 - accuracy: 0.6052 - val_loss: 1.0301 - val_accuracy: 0.6367\n",
      "Epoch 3/10\n",
      "1563/1563 [==============================] - 24s 15ms/step - loss: 0.9448 - accuracy: 0.6692 - val_loss: 0.9291 - val_accuracy: 0.6793\n",
      "Epoch 4/10\n",
      "1563/1563 [==============================] - 24s 15ms/step - loss: 0.8464 - accuracy: 0.7041 - val_loss: 0.8655 - val_accuracy: 0.6971\n",
      "Epoch 5/10\n",
      "1563/1563 [==============================] - 25s 16ms/step - loss: 0.7691 - accuracy: 0.7303 - val_loss: 0.8517 - val_accuracy: 0.7064\n",
      "Epoch 6/10\n",
      "1563/1563 [==============================] - 28s 18ms/step - loss: 0.7159 - accuracy: 0.7512 - val_loss: 0.8780 - val_accuracy: 0.6975\n",
      "Epoch 7/10\n",
      "1563/1563 [==============================] - 28s 18ms/step - loss: 0.6612 - accuracy: 0.7674 - val_loss: 0.8556 - val_accuracy: 0.7155\n",
      "Epoch 8/10\n",
      "1563/1563 [==============================] - 29s 18ms/step - loss: 0.6149 - accuracy: 0.7839 - val_loss: 0.8510 - val_accuracy: 0.7120\n",
      "Epoch 9/10\n",
      "1563/1563 [==============================] - 29s 19ms/step - loss: 0.5666 - accuracy: 0.8009 - val_loss: 0.8619 - val_accuracy: 0.7093\n",
      "Epoch 10/10\n",
      "1563/1563 [==============================] - 28s 18ms/step - loss: 0.5286 - accuracy: 0.8118 - val_loss: 0.8985 - val_accuracy: 0.7109\n",
      "313/313 - 3s - loss: 0.8985 - accuracy: 0.7109 - 3s/epoch - 8ms/step\n"
     ]
    },
    {
     "name": "stderr",
     "output_type": "stream",
     "text": [
      "2023/01/20 05:57:56 WARNING mlflow.utils.autologging_utils: You are using an unsupported version of tensorflow. If you encounter errors during autologging, try upgrading / downgrading tensorflow to a supported version, or try upgrading MLflow.\n",
      "WARNING:absl:Found untraced functions such as _jit_compiled_convolution_op, _jit_compiled_convolution_op, _jit_compiled_convolution_op, _update_step_xla while saving (showing 4 of 4). These functions will not be directly callable after loading.\n"
     ]
    },
    {
     "name": "stdout",
     "output_type": "stream",
     "text": [
      "INFO:tensorflow:Assets written to: /var/folders/5y/9xdc_js94k1dwlvwf8b6hxs80000gp/T/tmpq5h41u4m/model/data/model/assets\n"
     ]
    },
    {
     "name": "stderr",
     "output_type": "stream",
     "text": [
      "INFO:tensorflow:Assets written to: /var/folders/5y/9xdc_js94k1dwlvwf8b6hxs80000gp/T/tmpq5h41u4m/model/data/model/assets\n",
      "Registered model 'cifar_cnn' already exists. Creating a new version of this model...\n",
      "Created version '2' of model 'cifar_cnn'.\n"
     ]
    },
    {
     "data": {
      "text/plain": [
       "<keras.engine.sequential.Sequential at 0x17b533340>"
      ]
     },
     "execution_count": 10,
     "metadata": {},
     "output_type": "execute_result"
    },
    {
     "data": {
      "image/png": "[encoded data removed]",
      "text/plain": [
       "<Figure size 432x288 with 1 Axes>"
      ]
     },
     "metadata": {
      "needs_background": "light"
     },
     "output_type": "display_data"
    }
   ],
   "source": [
    "def train_model(model_name, model_flavor, model_stage, data, epochs=10):\n",
    "    experiment_name=os.environ.get('MLFLOW_EXPERIMENT_NAME') or 'Default'\n",
    "    experiment_id=mlflow.get_experiment_by_name(experiment_name)\n",
    "    \n",
    "    with mlflow.start_run(run_name='train_model', nested=True) as active_run:\n",
    "        # Build and Compile Model\n",
    "        with tensorflow.device('/CPU:0'): # Place tensors on the CPU\n",
    "            model = models.Sequential()\n",
    "            model.add(layers.Conv2D(32, (3, 3), activation='relu', input_shape=(32, 32, 3)))\n",
    "            model.add(layers.MaxPooling2D((2, 2)))\n",
    "            model.add(layers.Conv2D(64, (3, 3), activation='relu'))\n",
    "            model.add(layers.MaxPooling2D((2, 2)))\n",
    "            model.add(layers.Conv2D(64, (3, 3), activation='relu'))\n",
    "            model.add(layers.Flatten())\n",
    "            model.add(layers.Dense(64, activation='relu'))\n",
    "            model.add(layers.Dense(10))\n",
    "            model.summary()\n",
    "            model.compile(optimizer='adam',\n",
    "                  loss=tensorflow.keras.losses.SparseCategoricalCrossentropy(from_logits=True),\n",
    "                  metrics=['accuracy'])\n",
    "\n",
    "            # Fit model\n",
    "            history = model.fit(data.get('training_data'), data.get('training_labels'), epochs=epochs, \n",
    "                                validation_data=(data.get('test_data'), data.get('test_labels')))\n",
    "        \n",
    "        # Plot metrics\n",
    "        plt.plot(history.history['accuracy'], label='accuracy')\n",
    "        plt.plot(history.history['val_accuracy'], label = 'val_accuracy')\n",
    "        plt.xlabel('Epoch')\n",
    "        plt.ylabel('Accuracy')\n",
    "        plt.ylim([0.5, 1])\n",
    "        plt.savefig(\"cifar_cnn_accuracy.png\", bbox_inches='tight')\n",
    "        mlflow.log_artifact(\"cifar_cnn_accuracy.png\")\n",
    "        \n",
    "        # Log Metrics\n",
    "        test_loss, test_acc = model.evaluate(data.get('test_data'),  data.get('test_labels'), verbose=2)\n",
    "        mlflow.log_metric('testing_loss', test_loss)\n",
    "        mlflow.log_metric('testing_accuracy', test_acc)\n",
    "        getattr(mlflow, model_flavor).autolog(log_models=False)\n",
    "        \n",
    "        \n",
    "        getattr(mlflow, model_flavor).log_model(model,\n",
    "                                                artifact_path=f'runs:/{active_run.info.run_id}/{model_name}',\n",
    "                                                registered_model_name=model_name,\n",
    "                                                await_registration_for=None)\n",
    "        \n",
    "                                                \n",
    "        return model\n",
    "                                                \n",
    "        \n",
    "dataset_path = download_dataset('cifar10')\n",
    "print(dataset_path)\n",
    "data = hkl.load(dataset_path)\n",
    "train_model('cifar_cnn', 'tensorflow', 'None', data)"
   ]
  },
  {
   "cell_type": "markdown",
   "id": "eb24a177",
   "metadata": {},
   "source": [
    "## Evaluate Model"
   ]
  },
  {
   "cell_type": "code",
   "execution_count": 6,
   "id": "bf6a6ab4",
   "metadata": {},
   "outputs": [
    {
     "name": "stderr",
     "output_type": "stream",
     "text": [
      "INFO:root:Best run found is...[<Run: data=<RunData: metrics={'testing_accuracy': 0.7110000252723694, 'testing_loss': 0.8756675720214844}, params={}, tags={'mlflow.log-model.history': '[{\"run_id\": \"58123bf295a240d8bf3faa5d41e61dd8\", '\n",
      "                             '\"artifact_path\": '\n",
      "                             '\"runs:/58123bf295a240d8bf3faa5d41e61dd8/cifar_cnn\", '\n",
      "                             '\"utc_time_created\": \"2023-01-20 '\n",
      "                             '10:40:27.721216\", \"flavors\": {\"tensorflow\": '\n",
      "                             '{\"code\": null, \"data\": \"data\", \"model_type\": '\n",
      "                             '\"keras\", \"keras_version\": \"2.11.0\", '\n",
      "                             '\"save_format\": \"tf\"}, \"python_function\": '\n",
      "                             '{\"loader_module\": \"mlflow.tensorflow\", '\n",
      "                             '\"python_version\": \"3.10.3\", \"data\": \"data\", '\n",
      "                             '\"env\": {\"conda\": \"conda.yaml\", \"virtualenv\": '\n",
      "                             '\"python_env.yaml\"}}}, \"model_uuid\": '\n",
      "                             '\"117092b905b04e49b643860e780bec2c\", '\n",
      "                             '\"mlflow_version\": \"2.0.1\"}]',\n",
      " 'mlflow.runName': 'train_model',\n",
      " 'mlflow.source.name': '/Users/oawofolu/.pyenv/versions/3.10.3/lib/python3.10/site-packages/ipykernel_launcher.py',\n",
      " 'mlflow.source.type': 'LOCAL',\n",
      " 'mlflow.user': 'oawofolu'}>, info=<RunInfo: artifact_uri='mlflow-artifacts:/4/58123bf295a240d8bf3faa5d41e61dd8/artifacts', end_time=1674211240359, experiment_id='4', lifecycle_stage='active', run_id='58123bf295a240d8bf3faa5d41e61dd8', run_name='train_model', run_uuid='58123bf295a240d8bf3faa5d41e61dd8', start_time=1674210709008, status='FINISHED', user_id='oawofolu'>>]\n",
      "INFO:root:In download model...search model results = [<ModelVersion: creation_timestamp=1674211240465, current_stage='None', description='', last_updated_timestamp=1674211240465, name='cifar_cnn', run_id='58123bf295a240d8bf3faa5d41e61dd8', run_link='', source='mlflow-artifacts:/4/58123bf295a240d8bf3faa5d41e61dd8/artifacts/runs:/58123bf295a240d8bf3faa5d41e61dd8/cifar_cnn', status='READY', status_message='', tags={}, user_id='', version='1'>]\n",
      "INFO:root:Found best model: <keras.engine.sequential.Sequential object at 0x17e461d20>\n"
     ]
    }
   ],
   "source": [
    "def evaluate_model(model_name, model_flavor):\n",
    "    experiment_name=os.environ.get('MLFLOW_EXPERIMENT_NAME') or 'Default'\n",
    "    \n",
    "    with mlflow.start_run(run_name='evaluate_model', nested=True) as active_run:\n",
    "        runs = mlflow.search_runs(experiment_names=[experiment_name], \n",
    "                                  filter_string=\"attributes.run_name='train_model'\", \n",
    "                                  order_by=['metrics.testing_accuracy DESC'],\n",
    "                                  max_results=1,\n",
    "                                  output_format='list')\n",
    "        logging.info(f\"Best run found is...{runs}\")\n",
    "        best_run_id = runs[0].info.run_id if len(runs) else None\n",
    "        if best_run_id is not None:\n",
    "            (model, version) = download_model(model_name, model_flavor, best_run_id)\n",
    "            logging.info(f\"Found best model: {model}\")\n",
    "            \n",
    "            MlflowClient().transition_model_version_stage(\n",
    "                name=model_name,\n",
    "                version=version,\n",
    "                stage=\"Staging\"\n",
    "            )\n",
    "\n",
    "evaluate_model('cifar_cnn', 'tensorflow')"
   ]
  },
  {
   "cell_type": "markdown",
   "id": "bec45596",
   "metadata": {},
   "source": [
    "## Make Prediction"
   ]
  },
  {
   "cell_type": "code",
   "execution_count": 9,
   "id": "f4529412",
   "metadata": {},
   "outputs": [
    {
     "name": "stdout",
     "output_type": "stream",
     "text": [
      "1/1 [==============================] - 0s 74ms/step\n"
     ]
    },
    {
     "name": "stderr",
     "output_type": "stream",
     "text": [
      "INFO:root:Predictions in order...list=[[ 0.5766723  -4.7815304   1.3507905   0.57602584  0.20814118 -0.25804743\n",
      "   2.589484   -3.105214   -3.9336553  -5.4094605 ]], index=6, prediction=frog\n"
     ]
    },
    {
     "data": {
      "text/plain": [
       "'frog'"
      ]
     },
     "execution_count": 9,
     "metadata": {},
     "output_type": "execute_result"
    }
   ],
   "source": [
    "def predict(img, model_name, model_stage):\n",
    "    model = getattr(mlflow, 'tensorflow').load_model(f'models:/{model_name}/{model_stage}')\n",
    "    labels = ['airplane', 'automobile', 'bird', 'cat', 'deer', 'dog', 'frog', 'horse', 'ship', 'truck' ]\n",
    "    \n",
    "    img = img_to_array(img)\n",
    "    img = img.reshape(1, 32, 32, 3)\n",
    "    img = img.astype('float32')\n",
    "    img = img / 255.0\n",
    "    \n",
    "    prediction_results = model.predict(img)\n",
    "    prediction = labels[np.argmax(prediction_results)]\n",
    "    logging.info(f'Predictions in order...list={prediction_results}, index={np.argmax(prediction_results)}, prediction={prediction}')\n",
    "    return prediction\n",
    "\n",
    "test_image = load_img('./test-images/img16.jpeg', target_size=(32, 32))\n",
    "predict(test_image, 'cifar_cnn', 'Staging')"
   ]
  },
  {
   "cell_type": "code",
   "execution_count": null,
   "id": "2ace6ebb",
   "metadata": {},
   "outputs": [],
   "source": []
  }
 ],
 "metadata": {
  "kernelspec": {
   "display_name": "Python 3 (ipykernel)",
   "language": "python",
   "name": "python3"
  },
  "language_info": {
   "codemirror_mode": {
    "name": "ipython",
    "version": 3
   },
   "file_extension": ".py",
   "mimetype": "text/x-python",
   "name": "python",
   "nbconvert_exporter": "python",
   "pygments_lexer": "ipython3",
   "version": "3.10.3"
  }
 },
 "nbformat": 4,
 "nbformat_minor": 5
}
